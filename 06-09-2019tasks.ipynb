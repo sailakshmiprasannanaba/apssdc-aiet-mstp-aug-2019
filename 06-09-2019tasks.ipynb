{
 "cells": [
  {
   "cell_type": "markdown",
   "metadata": {},
   "source": [
    "#### Question-1: Write a Python Program to largest of three given numbers (using input statement\n"
   ]
  },
  {
   "cell_type": "markdown",
   "metadata": {},
   "source": [
    "### solution for que-1"
   ]
  },
  {
   "cell_type": "markdown",
   "metadata": {},
   "source": [
    "##### largest of 3 numbers"
   ]
  },
  {
   "cell_type": "code",
   "execution_count": 2,
   "metadata": {},
   "outputs": [
    {
     "name": "stdout",
     "output_type": "stream",
     "text": [
      "enter a first value50\n",
      "enter a second value40\n",
      "enter a third value20\n",
      "50 is the largest number\n"
     ]
    }
   ],
   "source": [
    "a=int(input(\"enter a first value\"))\n",
    "b=int(input(\"enter a second value\"))\n",
    "c=int(input(\"enter a third value\"))\n",
    "if a>b>c:\n",
    "    print(a, \"is the largest number\")\n",
    "\n",
    "elif b>a>c:\n",
    "    print(b,\"is the largest number\")\n",
    "elif c>b>a:\n",
    "    print(c,\"is the largest number\")\n",
    "else:\n",
    "    print(\"three numbers are equal\")\n",
    "\n",
    "    "
   ]
  },
  {
   "cell_type": "markdown",
   "metadata": {},
   "source": [
    "#### Question -2: Write a python program to find the given number(N) in given range(lower bound-upper bound)"
   ]
  },
  {
   "cell_type": "markdown",
   "metadata": {},
   "source": [
    "### solution for que-2"
   ]
  },
  {
   "cell_type": "code",
   "execution_count": 3,
   "metadata": {},
   "outputs": [
    {
     "name": "stdout",
     "output_type": "stream",
     "text": [
      "enter a lower bound value 50\n",
      "enter a upper bound value20\n",
      "18\n",
      "given number is not exit\n"
     ]
    }
   ],
   "source": [
    "a=int(input(\"enter a lower bound value \"))\n",
    "b=int(input(\"enter a upper bound value\"))\n",
    "n=int(input())\n",
    "if(a<=n)and(n<=b):\n",
    "    print(\"given number is exit\")\n",
    "else:\n",
    "    print(\"given number is not exit\")"
   ]
  }
 ],
 "metadata": {
  "kernelspec": {
   "display_name": "Python 3",
   "language": "python",
   "name": "python3"
  },
  "language_info": {
   "codemirror_mode": {
    "name": "ipython",
    "version": 3
   },
   "file_extension": ".py",
   "mimetype": "text/x-python",
   "name": "python",
   "nbconvert_exporter": "python",
   "pygments_lexer": "ipython3",
   "version": "3.7.3"
  }
 },
 "nbformat": 4,
 "nbformat_minor": 2
}
