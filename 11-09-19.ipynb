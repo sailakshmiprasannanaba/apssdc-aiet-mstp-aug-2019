{
 "cells": [
  {
   "cell_type": "markdown",
   "metadata": {},
   "source": [
    "### dictionaries"
   ]
  },
  {
   "cell_type": "markdown",
   "metadata": {},
   "source": [
    "- is an unordered set of key and value pair it is container that contains data enclosed with curly braces.the pair i.e key and values is knowm an item"
   ]
  },
  {
   "cell_type": "code",
   "execution_count": 2,
   "metadata": {},
   "outputs": [
    {
     "name": "stdout",
     "output_type": "stream",
     "text": [
      "{1: 'python', 2: 'c', 3: 'java', 'd': 'android'}\n"
     ]
    }
   ],
   "source": [
    "dict={1:'python',2:'c',3:'java','d':\"android\"}\n",
    "print(dict)"
   ]
  },
  {
   "cell_type": "code",
   "execution_count": 3,
   "metadata": {},
   "outputs": [
    {
     "name": "stdout",
     "output_type": "stream",
     "text": [
      "c\n"
     ]
    }
   ],
   "source": [
    "# accessing dictionary values\n",
    "dict={1:'python',2:'c',3:'java','d':\"android\"}\n",
    "print(dict[2])"
   ]
  },
  {
   "cell_type": "code",
   "execution_count": 4,
   "metadata": {},
   "outputs": [
    {
     "name": "stdout",
     "output_type": "stream",
     "text": [
      "c\n",
      "python\n",
      "c\n",
      "java\n",
      "android\n"
     ]
    }
   ],
   "source": [
    "# accessing dictionary values\n",
    "dict={1:'python',2:'c',3:'java','d':\"android\"}\n",
    "print(dict[2])\n",
    "for x in dict.keys():\n",
    "    print(dict[x])"
   ]
  },
  {
   "cell_type": "code",
   "execution_count": 6,
   "metadata": {},
   "outputs": [
    {
     "name": "stdout",
     "output_type": "stream",
     "text": [
      "dict_keys([1, 2, 3, 'd'])\n"
     ]
    }
   ],
   "source": [
    "dict={1:'python',2:'c',3:'java','d':\"android\"}\n",
    "print(dict.keys())"
   ]
  },
  {
   "cell_type": "code",
   "execution_count": 7,
   "metadata": {},
   "outputs": [
    {
     "name": "stdout",
     "output_type": "stream",
     "text": [
      "{1: 'python', 2: 'c', 3: 'java', 'd': 'android', 4: 'PHP'}\n"
     ]
    }
   ],
   "source": [
    "# updating the dictionary elements\n",
    "dict={1:'python',2:'c',3:'java','d':\"android\"}\n",
    "dict[4]=\"PHP\"\n",
    "print(dict)#"
   ]
  },
  {
   "cell_type": "code",
   "execution_count": 8,
   "metadata": {},
   "outputs": [
    {
     "name": "stdout",
     "output_type": "stream",
     "text": [
      "{1: 'python', 2: 'c', 3: 'java', 'd': 'android', 4: 'PHP', 5: 'CH'}\n"
     ]
    }
   ],
   "source": [
    "# updating the dictionary elements\n",
    "dict={1:'python',2:'c',3:'java','d':\"android\"}\n",
    "dict[4]=\"PHP\"\n",
    "dict[5]=\"CH\"\n",
    "print(dict)"
   ]
  },
  {
   "cell_type": "code",
   "execution_count": 11,
   "metadata": {},
   "outputs": [
    {
     "name": "stdout",
     "output_type": "stream",
     "text": [
      "{1: 'python', 2: 'c', 'd': 'android'}\n"
     ]
    }
   ],
   "source": [
    "#del dictionary elements\n",
    "dict={1:'python',2:'c',3:'java','d':\"android\"}\n",
    "del dict[3]\n",
    "print(dict)"
   ]
  },
  {
   "cell_type": "code",
   "execution_count": 12,
   "metadata": {},
   "outputs": [
    {
     "name": "stdout",
     "output_type": "stream",
     "text": [
      "{}\n"
     ]
    }
   ],
   "source": [
    "dict={1:'python',2:'c',3:'java','d':\"android\"}\n",
    "dict.clear()\n",
    "print(dict)"
   ]
  },
  {
   "cell_type": "code",
   "execution_count": 13,
   "metadata": {},
   "outputs": [
    {
     "name": "stdout",
     "output_type": "stream",
     "text": [
      "4\n"
     ]
    }
   ],
   "source": [
    "# len()\n",
    "dict={1:'python',2:'c',3:'java','d':\"android\"}\n",
    "print(len(dict))"
   ]
  },
  {
   "cell_type": "code",
   "execution_count": 14,
   "metadata": {},
   "outputs": [
    {
     "name": "stdout",
     "output_type": "stream",
     "text": [
      "{1: 'python', 2: 'c', 3: 'java', 'd': 'android'}\n"
     ]
    }
   ],
   "source": [
    "#str(dict)\n",
    "dict={1:'python',2:'c',3:'java','d':\"android\"}\n",
    "print(str(dict))"
   ]
  },
  {
   "cell_type": "code",
   "execution_count": 15,
   "metadata": {},
   "outputs": [
    {
     "name": "stdout",
     "output_type": "stream",
     "text": [
      "<class 'dict'>\n"
     ]
    }
   ],
   "source": [
    "#type()\n",
    "dict={1:'python',2:'c',3:'java','d':\"android\"}\n",
    "print(type(dict))"
   ]
  },
  {
   "cell_type": "code",
   "execution_count": 16,
   "metadata": {},
   "outputs": [
    {
     "name": "stdout",
     "output_type": "stream",
     "text": [
      "{1: 'python', 2: 'c', 3: 'java', 'd': 'android'}\n"
     ]
    }
   ],
   "source": [
    "#copy()\n",
    "dict1={1:'python',2:'c',3:'java','d':\"android\"}\n",
    "dict2=dict1.copy()\n",
    "print(dict2)"
   ]
  },
  {
   "cell_type": "code",
   "execution_count": 17,
   "metadata": {},
   "outputs": [
    {
     "name": "stdout",
     "output_type": "stream",
     "text": [
      "new dict : {'java': None, 'android': None, 'c++': None}\n",
      " new dictionary : {'java': 50, 'android': 50, 'c++': 50}\n"
     ]
    }
   ],
   "source": [
    "#fromkey()--the method from keys() creates a new dictionary with keys from sequence\n",
    "#and values set to a value.\n",
    "seq =('java','android','c++')\n",
    "dict =dict.fromkeys(seq)\n",
    "print(\"new dict : %s\" % str(dict))\n",
    "dict =dict.fromkeys(seq,50)\n",
    "print(\" new dictionary : %s\" % str(dict))"
   ]
  },
  {
   "cell_type": "code",
   "execution_count": 19,
   "metadata": {},
   "outputs": [
    {
     "name": "stdout",
     "output_type": "stream",
     "text": [
      "{1: 'mstp', 2: 'c', 3: 'java', 'd': 'android', 5: 'digitaltools'}\n"
     ]
    }
   ],
   "source": [
    "# dict1.update(dict2)\n",
    "dict={1:'python',2:'c',3:'java','d':\"android\"}\n",
    "dict2={1:'mstp',5:'digitaltools'}\n",
    "dict1.update(dict2)\n",
    "print(dict1)"
   ]
  },
  {
   "cell_type": "code",
   "execution_count": 20,
   "metadata": {},
   "outputs": [
    {
     "name": "stdout",
     "output_type": "stream",
     "text": [
      "dict_values(['mstp', 'c', 'java', 'android', 'digitaltools'])\n"
     ]
    }
   ],
   "source": [
    "#value()\n",
    "dict={1:'python',2:'c',3:'java','d':\"android\"}\n",
    "values = dict1.values()\n",
    "print(values)"
   ]
  },
  {
   "cell_type": "code",
   "execution_count": 23,
   "metadata": {},
   "outputs": [
    {
     "name": "stdout",
     "output_type": "stream",
     "text": [
      "swamy\n",
      "APSSDC\n"
     ]
    }
   ],
   "source": [
    "#dict.setdefault(key,default=none)\n",
    "#dict[key]=default if key is not already in dict\n",
    "#key - searched\n",
    "#default - returned in case key in not found\n",
    "dict ={'emp_name':'swamy','age':21,'emp_id':101}\n",
    "dict.setdefault('company','APSSDC')\n",
    "print(dict['emp_name'])\n",
    "print(dict['company'])"
   ]
  },
  {
   "cell_type": "code",
   "execution_count": 26,
   "metadata": {},
   "outputs": [
    {
     "name": "stdout",
     "output_type": "stream",
     "text": [
      "{'a': 1, 'b': 2, 'c': 3, 'd': 4, 'e': 5}\n"
     ]
    }
   ],
   "source": [
    "# how to create a dictionary from two lists\n",
    "a=[1,2,3,4,5]\n",
    "b=['a','b','c','d','e']\n",
    "c={}\n",
    "for i in range(len(a)):\n",
    "    c[b[i]] =a[i]\n",
    "print(c)\n",
    "            "
   ]
  },
  {
   "cell_type": "code",
   "execution_count": null,
   "metadata": {},
   "outputs": [],
   "source": [
    "# dictionary is mutable\n",
    "# key must be unique and immutable value is accesed by key.value can be update\n",
    "# while key can not be changed.\n",
    "# dictionary is knowm as associative array since the key works as index and\n",
    "# they are decided by the user."
   ]
  },
  {
   "cell_type": "markdown",
   "metadata": {},
   "source": [
    "### modules"
   ]
  },
  {
   "cell_type": "markdown",
   "metadata": {},
   "source": [
    "- module is nothing but python file\n",
    "- it may contains attributes classes and methods\n",
    "- we can use 'import' keyword to import required modules in current file"
   ]
  },
  {
   "cell_type": "code",
   "execution_count": 28,
   "metadata": {},
   "outputs": [],
   "source": [
    "import math"
   ]
  },
  {
   "cell_type": "code",
   "execution_count": 29,
   "metadata": {},
   "outputs": [
    {
     "data": {
      "text/plain": [
       "3.141592653589793"
      ]
     },
     "execution_count": 29,
     "metadata": {},
     "output_type": "execute_result"
    }
   ],
   "source": [
    "math.pi"
   ]
  },
  {
   "cell_type": "code",
   "execution_count": 30,
   "metadata": {},
   "outputs": [
    {
     "data": {
      "text/plain": [
       "2.718281828459045"
      ]
     },
     "execution_count": 30,
     "metadata": {},
     "output_type": "execute_result"
    }
   ],
   "source": [
    "math.e"
   ]
  },
  {
   "cell_type": "code",
   "execution_count": 31,
   "metadata": {},
   "outputs": [
    {
     "data": {
      "text/plain": [
       "720"
      ]
     },
     "execution_count": 31,
     "metadata": {},
     "output_type": "execute_result"
    }
   ],
   "source": [
    "math.factorial(6)"
   ]
  },
  {
   "cell_type": "code",
   "execution_count": 32,
   "metadata": {},
   "outputs": [
    {
     "data": {
      "text/plain": [
       "4.0"
      ]
     },
     "execution_count": 32,
     "metadata": {},
     "output_type": "execute_result"
    }
   ],
   "source": [
    "math.sqrt(16)"
   ]
  },
  {
   "cell_type": "code",
   "execution_count": 33,
   "metadata": {},
   "outputs": [
    {
     "data": {
      "text/plain": [
       "16.0"
      ]
     },
     "execution_count": 33,
     "metadata": {},
     "output_type": "execute_result"
    }
   ],
   "source": [
    "math.pow(4,2)"
   ]
  },
  {
   "cell_type": "code",
   "execution_count": 34,
   "metadata": {},
   "outputs": [
    {
     "data": {
      "text/plain": [
       "2"
      ]
     },
     "execution_count": 34,
     "metadata": {},
     "output_type": "execute_result"
    }
   ],
   "source": [
    "math.floor(2.3245)"
   ]
  },
  {
   "cell_type": "code",
   "execution_count": 35,
   "metadata": {},
   "outputs": [
    {
     "data": {
      "text/plain": [
       "5"
      ]
     },
     "execution_count": 35,
     "metadata": {},
     "output_type": "execute_result"
    }
   ],
   "source": [
    "math.ceil(4.34)"
   ]
  },
  {
   "cell_type": "code",
   "execution_count": 38,
   "metadata": {},
   "outputs": [],
   "source": [
    "import webbrowser\n",
    "import time\n",
    "fav_sites=[\"www.goggle.com\",\"youtube.com\",\"engineering.apssdc.in\"]\n",
    "for url in fav_sites:\n",
    "    webbrowser.open(url)\n",
    "    time.sleep(5)"
   ]
  },
  {
   "cell_type": "code",
   "execution_count": 8,
   "metadata": {},
   "outputs": [
    {
     "data": {
      "text/plain": [
       "5"
      ]
     },
     "execution_count": 8,
     "metadata": {},
     "output_type": "execute_result"
    }
   ],
   "source": [
    "import basic_operations as bo\n",
    "bo.sub(10,5)"
   ]
  },
  {
   "cell_type": "code",
   "execution_count": 11,
   "metadata": {},
   "outputs": [
    {
     "data": {
      "text/plain": [
       "5"
      ]
     },
     "execution_count": 11,
     "metadata": {},
     "output_type": "execute_result"
    }
   ],
   "source": [
    "import basic_operations \n",
    "basic_operations.add(2,3)"
   ]
  },
  {
   "cell_type": "code",
   "execution_count": 4,
   "metadata": {},
   "outputs": [
    {
     "data": {
      "text/plain": [
       "True"
      ]
     },
     "execution_count": 4,
     "metadata": {},
     "output_type": "execute_result"
    }
   ],
   "source": [
    "import advanced_operations as ao\n",
    "ao.isprime(7)"
   ]
  },
  {
   "cell_type": "code",
   "execution_count": null,
   "metadata": {},
   "outputs": [],
   "source": []
  }
 ],
 "metadata": {
  "kernelspec": {
   "display_name": "Python 3",
   "language": "python",
   "name": "python3"
  },
  "language_info": {
   "codemirror_mode": {
    "name": "ipython",
    "version": 3
   },
   "file_extension": ".py",
   "mimetype": "text/x-python",
   "name": "python",
   "nbconvert_exporter": "python",
   "pygments_lexer": "ipython3",
   "version": "3.7.3"
  }
 },
 "nbformat": 4,
 "nbformat_minor": 2
}
