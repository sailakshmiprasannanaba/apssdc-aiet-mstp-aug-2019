{
 "cells": [
  {
   "cell_type": "markdown",
   "metadata": {},
   "source": [
    "ques:1\n",
    " ### prime number:need to print the series of all prime numbers till N   \n",
    " input format:10\n",
    " output format:2 3 5 7"
   ]
  },
  {
   "cell_type": "code",
   "execution_count": 19,
   "metadata": {},
   "outputs": [
    {
     "name": "stdout",
     "output_type": "stream",
     "text": [
      "enter a lower range1\n",
      "enter a upper range10\n",
      "2\n",
      "3\n",
      "5\n",
      "7\n"
     ]
    }
   ],
   "source": [
    "lower = int(input(\"enter a lower range\"))\n",
    "upper = int(input(\"enter a upper range\"))\n",
    "for num in range (lower,upper):\n",
    "        if num > 1:\n",
    "            for i in range (2 , num):\n",
    "                if(num % i) == 0:\n",
    "                    break\n",
    "            else:\n",
    "                        print(num)"
   ]
  },
  {
   "cell_type": "markdown",
   "metadata": {},
   "source": [
    "ques:2\n",
    "\n",
    "### Count Divisors: You have been given 3 integers - l, r and k. Find how many numbers between l and r (both inclusive) are divisible by k.\n",
    "Input Format:\n",
    "1 10 1\n",
    "Output Format:\n",
    "10"
   ]
  },
  {
   "cell_type": "code",
   "execution_count": 1,
   "metadata": {},
   "outputs": [
    {
     "name": "stdout",
     "output_type": "stream",
     "text": [
      "1 10 1\n",
      "10\n"
     ]
    }
   ],
   "source": [
    "l,r,k=map(int,input().split(\" \"))\n",
    "count=0\n",
    "for i in range(1,r+1):\n",
    "    if(i%k==0):\n",
    "        count=count+1\n",
    "print(count)"
   ]
  },
  {
   "cell_type": "markdown",
   "metadata": {},
   "source": [
    "ques:3\n",
    "### Word Frequency: need to print words with frequency from given sentence (string) in dictionary format\n",
    "Input Format:\n",
    "ravi ramu balu ravi raghu\n",
    "Output Format:\n",
    "{“ravi”:2, “ramu”:1, “balu”:1, “raghu”:1}"
   ]
  },
  {
   "cell_type": "code",
   "execution_count": 3,
   "metadata": {},
   "outputs": [
    {
     "data": {
      "text/plain": [
       "{'ravi': 1, 'ramu': 1, 'balu': 1, 'raghu': 1}"
      ]
     },
     "execution_count": 3,
     "metadata": {},
     "output_type": "execute_result"
    }
   ],
   "source": [
    "s=\"ravi ramu balu raghu\"\n",
    "name=s.split(\" \")\n",
    "d={}\n",
    "for w in name:\n",
    "    d[w]=d.get(w,0)+1\n",
    "d\n",
    "    "
   ]
  }
 ],
 "metadata": {
  "kernelspec": {
   "display_name": "Python 3",
   "language": "python",
   "name": "python3"
  },
  "language_info": {
   "codemirror_mode": {
    "name": "ipython",
    "version": 3
   },
   "file_extension": ".py",
   "mimetype": "text/x-python",
   "name": "python",
   "nbconvert_exporter": "python",
   "pygments_lexer": "ipython3",
   "version": "3.7.3"
  }
 },
 "nbformat": 4,
 "nbformat_minor": 2
}
