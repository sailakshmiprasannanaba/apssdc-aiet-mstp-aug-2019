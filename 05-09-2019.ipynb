{
 "cells": [
  {
   "cell_type": "markdown",
   "metadata": {},
   "source": [
    "**bold**"
   ]
  },
  {
   "cell_type": "markdown",
   "metadata": {},
   "source": [
    "*italic* "
   ]
  },
  {
   "cell_type": "markdown",
   "metadata": {},
   "source": [
    "* python\n",
    "* java\n",
    "* R programming\n",
    "* scripting languages\n",
    "  - html\n",
    "  - xml\n",
    "\n",
    "\n",
    "    "
   ]
  },
  {
   "cell_type": "markdown",
   "metadata": {},
   "source": [
    "**python programming**"
   ]
  },
  {
   "cell_type": "code",
   "execution_count": 15,
   "metadata": {},
   "outputs": [
    {
     "name": "stdout",
     "output_type": "stream",
     "text": [
      "hello world!\n",
      "haii\n"
     ]
    }
   ],
   "source": [
    "print(\"hello world!\")\n",
    "print(\"haii\")"
   ]
  },
  {
   "cell_type": "code",
   "execution_count": 16,
   "metadata": {},
   "outputs": [
    {
     "name": "stdout",
     "output_type": "stream",
     "text": [
      "1\n"
     ]
    }
   ],
   "source": [
    "print(1)"
   ]
  },
  {
   "cell_type": "markdown",
   "metadata": {},
   "source": [
    "**operators**"
   ]
  },
  {
   "cell_type": "markdown",
   "metadata": {},
   "source": [
    "* arithematic operators\n",
    "* relational operators\n",
    "* logical operators\n",
    "* assignment operator\n",
    "* bitwise operator\n",
    "* increment and decrement operators\n",
    "* membership operators\n"
   ]
  },
  {
   "cell_type": "markdown",
   "metadata": {},
   "source": [
    "# arithematic operator"
   ]
  },
  {
   "cell_type": "code",
   "execution_count": 21,
   "metadata": {},
   "outputs": [
    {
     "data": {
      "text/plain": [
       "int"
      ]
     },
     "execution_count": 21,
     "metadata": {},
     "output_type": "execute_result"
    }
   ],
   "source": [
    "type(1)"
   ]
  },
  {
   "cell_type": "code",
   "execution_count": 22,
   "metadata": {},
   "outputs": [
    {
     "data": {
      "text/plain": [
       "float"
      ]
     },
     "execution_count": 22,
     "metadata": {},
     "output_type": "execute_result"
    }
   ],
   "source": [
    "type(10/3)"
   ]
  },
  {
   "cell_type": "code",
   "execution_count": 23,
   "metadata": {},
   "outputs": [
    {
     "data": {
      "text/plain": [
       "3"
      ]
     },
     "execution_count": 23,
     "metadata": {},
     "output_type": "execute_result"
    }
   ],
   "source": [
    "10//3"
   ]
  },
  {
   "cell_type": "code",
   "execution_count": 24,
   "metadata": {},
   "outputs": [
    {
     "data": {
      "text/plain": [
       "1"
      ]
     },
     "execution_count": 24,
     "metadata": {},
     "output_type": "execute_result"
    }
   ],
   "source": [
    "10%3"
   ]
  },
  {
   "cell_type": "markdown",
   "metadata": {},
   "source": [
    "# logical operator"
   ]
  },
  {
   "cell_type": "code",
   "execution_count": 54,
   "metadata": {},
   "outputs": [
    {
     "data": {
      "text/plain": [
       "True"
      ]
     },
     "execution_count": 54,
     "metadata": {},
     "output_type": "execute_result"
    }
   ],
   "source": [
    "True and True"
   ]
  },
  {
   "cell_type": "code",
   "execution_count": 55,
   "metadata": {},
   "outputs": [
    {
     "data": {
      "text/plain": [
       "False"
      ]
     },
     "execution_count": 55,
     "metadata": {},
     "output_type": "execute_result"
    }
   ],
   "source": [
    "False and False"
   ]
  },
  {
   "cell_type": "code",
   "execution_count": 56,
   "metadata": {},
   "outputs": [
    {
     "data": {
      "text/plain": [
       "True"
      ]
     },
     "execution_count": 56,
     "metadata": {},
     "output_type": "execute_result"
    }
   ],
   "source": [
    "True and True"
   ]
  },
  {
   "cell_type": "markdown",
   "metadata": {},
   "source": [
    "# assignment opeartor"
   ]
  },
  {
   "cell_type": "code",
   "execution_count": 39,
   "metadata": {},
   "outputs": [
    {
     "data": {
      "text/plain": [
       "0"
      ]
     },
     "execution_count": 39,
     "metadata": {},
     "output_type": "execute_result"
    }
   ],
   "source": [
    "a // 5\n",
    "a"
   ]
  },
  {
   "cell_type": "code",
   "execution_count": 41,
   "metadata": {},
   "outputs": [
    {
     "data": {
      "text/plain": [
       "2"
      ]
     },
     "execution_count": 41,
     "metadata": {},
     "output_type": "execute_result"
    }
   ],
   "source": [
    "a+=1\n",
    "a"
   ]
  },
  {
   "cell_type": "code",
   "execution_count": 33,
   "metadata": {},
   "outputs": [],
   "source": [
    "a=b=c=d=5"
   ]
  },
  {
   "cell_type": "code",
   "execution_count": 34,
   "metadata": {},
   "outputs": [
    {
     "data": {
      "text/plain": [
       "(5, 5, 5, 5)"
      ]
     },
     "execution_count": 34,
     "metadata": {},
     "output_type": "execute_result"
    }
   ],
   "source": [
    "a,b,c,d"
   ]
  },
  {
   "cell_type": "code",
   "execution_count": 35,
   "metadata": {},
   "outputs": [
    {
     "data": {
      "text/plain": [
       "(5, 5, 5, 5)"
      ]
     },
     "execution_count": 35,
     "metadata": {},
     "output_type": "execute_result"
    }
   ],
   "source": [
    "a,c,b,d"
   ]
  },
  {
   "cell_type": "code",
   "execution_count": 28,
   "metadata": {},
   "outputs": [
    {
     "data": {
      "text/plain": [
       "int"
      ]
     },
     "execution_count": 28,
     "metadata": {},
     "output_type": "execute_result"
    }
   ],
   "source": [
    "a=10\n",
    "type(a)"
   ]
  },
  {
   "cell_type": "code",
   "execution_count": 30,
   "metadata": {},
   "outputs": [
    {
     "data": {
      "text/plain": [
       "str"
      ]
     },
     "execution_count": 30,
     "metadata": {},
     "output_type": "execute_result"
    }
   ],
   "source": [
    "a=\"hello\"\n",
    "type(a)"
   ]
  },
  {
   "cell_type": "markdown",
   "metadata": {},
   "source": [
    "# relational operator"
   ]
  },
  {
   "cell_type": "code",
   "execution_count": 31,
   "metadata": {},
   "outputs": [
    {
     "data": {
      "text/plain": [
       "False"
      ]
     },
     "execution_count": 31,
     "metadata": {},
     "output_type": "execute_result"
    }
   ],
   "source": [
    "2==3"
   ]
  },
  {
   "cell_type": "code",
   "execution_count": 32,
   "metadata": {},
   "outputs": [
    {
     "data": {
      "text/plain": [
       "True"
      ]
     },
     "execution_count": 32,
     "metadata": {},
     "output_type": "execute_result"
    }
   ],
   "source": [
    "2!=3"
   ]
  },
  {
   "cell_type": "markdown",
   "metadata": {},
   "source": [
    "# bit wise operator"
   ]
  },
  {
   "cell_type": "code",
   "execution_count": 43,
   "metadata": {},
   "outputs": [
    {
     "data": {
      "text/plain": [
       "4"
      ]
     },
     "execution_count": 43,
     "metadata": {},
     "output_type": "execute_result"
    }
   ],
   "source": [
    "4 & 7"
   ]
  },
  {
   "cell_type": "code",
   "execution_count": 44,
   "metadata": {},
   "outputs": [
    {
     "data": {
      "text/plain": [
       "7"
      ]
     },
     "execution_count": 44,
     "metadata": {},
     "output_type": "execute_result"
    }
   ],
   "source": [
    "7|4"
   ]
  },
  {
   "cell_type": "code",
   "execution_count": 45,
   "metadata": {},
   "outputs": [
    {
     "data": {
      "text/plain": [
       "32"
      ]
     },
     "execution_count": 45,
     "metadata": {},
     "output_type": "execute_result"
    }
   ],
   "source": [
    "8<<2"
   ]
  },
  {
   "cell_type": "code",
   "execution_count": 46,
   "metadata": {},
   "outputs": [
    {
     "data": {
      "text/plain": [
       "2"
      ]
     },
     "execution_count": 46,
     "metadata": {},
     "output_type": "execute_result"
    }
   ],
   "source": [
    "8>>2"
   ]
  },
  {
   "cell_type": "markdown",
   "metadata": {},
   "source": [
    "# identity operators"
   ]
  },
  {
   "cell_type": "code",
   "execution_count": 47,
   "metadata": {},
   "outputs": [
    {
     "data": {
      "text/plain": [
       "False"
      ]
     },
     "execution_count": 47,
     "metadata": {},
     "output_type": "execute_result"
    }
   ],
   "source": [
    "2==3"
   ]
  },
  {
   "cell_type": "code",
   "execution_count": 48,
   "metadata": {},
   "outputs": [
    {
     "data": {
      "text/plain": [
       "False"
      ]
     },
     "execution_count": 48,
     "metadata": {},
     "output_type": "execute_result"
    }
   ],
   "source": [
    "2 is 3"
   ]
  },
  {
   "cell_type": "code",
   "execution_count": 49,
   "metadata": {},
   "outputs": [
    {
     "data": {
      "text/plain": [
       "True"
      ]
     },
     "execution_count": 49,
     "metadata": {},
     "output_type": "execute_result"
    }
   ],
   "source": [
    "2!=3"
   ]
  },
  {
   "cell_type": "code",
   "execution_count": 50,
   "metadata": {},
   "outputs": [
    {
     "data": {
      "text/plain": [
       "True"
      ]
     },
     "execution_count": 50,
     "metadata": {},
     "output_type": "execute_result"
    }
   ],
   "source": [
    "2 is not 3"
   ]
  },
  {
   "cell_type": "markdown",
   "metadata": {},
   "source": [
    "# membership operators"
   ]
  },
  {
   "cell_type": "code",
   "execution_count": 51,
   "metadata": {},
   "outputs": [
    {
     "data": {
      "text/plain": [
       "True"
      ]
     },
     "execution_count": 51,
     "metadata": {},
     "output_type": "execute_result"
    }
   ],
   "source": [
    "\"ap\" in \"apssdc\""
   ]
  },
  {
   "cell_type": "code",
   "execution_count": 53,
   "metadata": {},
   "outputs": [
    {
     "data": {
      "text/plain": [
       "True"
      ]
     },
     "execution_count": 53,
     "metadata": {},
     "output_type": "execute_result"
    }
   ],
   "source": [
    "\"t\" not in \"apssdc\""
   ]
  },
  {
   "cell_type": "markdown",
   "metadata": {},
   "source": [
    "<img src=\"data:image/png;base64,iVBORw0KGgoAAAANSUhEUgAAAOEAAADhCAMAAAAJbSJIAAABEVBMVEX///9HldH/yFFZn9bMzMzMpE7Jycn/ylE/lNXIoU7QpUeTnZj39/f/yE1AktD/zWLJzNGLt9//2JD/ykc2ktbVun3xyXuUveKLpLN2ptDRz8xaoNb/3Jnt7e1pp9n8yFzd3d3u9fs5dqbY2Nj0ynPC2e7Y6PV9s95OmtTp8vnN4fH/5rb3ymrVzLvRzMLKnkClyef/897/+/P/03fwvEzdzKvx26/i5enJmi/czK3iy6Dpy4+10uuixeU5icM2f7W9z95gjrQsb6FRhrCsw9dzmbuLq8L/4qj/7cqXq6+mrqG4rob/14XetVWhoIj/68a9pGi6qn26omngr0WLrcyuvsvdv33o3MXpszXcwIvUr2O0Z/jSAAAJHUlEQVR4nO2dbUPayBaAIUSMlAmx8YKSQkDeouVFK6yK3LVv2u222u7abq/9/z/kzgBKEkAmZyaZ0J3ngx+Mhnk8M3NmkpOYSEgkEolEIpFIJBKJRCKRSCQSiUQikfxrqDYbR4VWq+yl1SocNZpV0Y1jpjlqOWNS80wOtEZN0Y0EU20UUgvV/KJWobGOsWwWrAc9yyIifrGHA1PJdYvkYfkxeo6TXI7rp8qHohsdgGZ52vCn5Fya0x9eG8eDbSeAnlvS2T4Q3XgaGmSIWakAehPw7+DfHIlu/momAQzsN3Ych1G0wAoO8AgExM8VR6cc657atAKOPz/jHBLjxHEA7qCuMGJiG8WqwxbAxzA6cV3ilN2Cuq7v6DpQsSxaZTEFx3IJlkfNg+ZRCuLopJyCaJlFHHoEG9PvHoEULSeOyxvL3UVn02EDFkVLoMkSRs5sFtXdK5NtiGLKid/ixp3nU+4D1R2AYTJ+QWy4Nkm6d54og/qp01jySaLYdiVC3du4/8JyRswWqFXL1Tg+hla80n7TvZbRvbNEC2SYdOK1PB2526bveY79DhJMJuM1m3oT++Wp69DrS5igfiTMZhEFr+Gb2ZHqPjCGerxWbl7D399ePRyovnsLG4ZxM/QtXPbfvnudxd+uvt9/uw8TTOrxShc+w8t9bPbm6g3+Cu2kMTckilOA80zsDR8VoRGMvyGebi4vL+F+62DIijSMGGkoDaWheKShNJSGkVJtjo4KfqzVLQ5seP3Cz4eXx69C92tsW848rDcNFxrubtpzKLnPf4TqN7IW1zhZ7LcNFxnmFqHkXobmd7jEj/HOdkBD4hhSHAvBy2TYDE1lHnvi+CIEv+q4zikqvaWGU0n7hPuUcxCx3xOGE8fNY76CTQ5VFvwMFYV0Va6KB1bEAVxlOA4jz45aDiUfsBiSMLb5CbacyCO42lDJ2Z95CY5ECK42VHIKp9xfjX4M0hnavIbidijLTg6Gim0/5yF4KEaQxhD3Ux4poyxGkMpQyZ2wCx4+WWsv2tBW2BfhokJIZ8ghiE1RIaQ0VGzWkVgQJUhtyLiRqka/WgtoqDDmxIYwQWpDxrlGXCdNarSGbN00hKuE1IYfKQ1zLIJNcYJJ7U9KQ6bd/mh1Q0Jj5xOiM2TaYbQEGmr/oTVk2SaKm2eSSedmk04Q2XDBqkBB/apPaaggeEZs8r+jRI12S28In2pAz0pwwtmg9MOGX8CGoAde+KB9vKM3/AA2LAgz1J2tO9pOqiD4tQxgDToHtNsM9TBUEDxdgJ4F4SJ4nclQCyoIvgsWZahdbWzQh1BB8Ivfgtbd2t7WRoAQKgi+9hZjqF1jQSUaQxEXoTTtzwzuo/R+a2aoJXe3MoEG4ToZ6pqW2v2K/QIKijLE7Q3Ejlbe/fST+AXIhFOiN9Q1PXW1+ywIt39tZTLEb+suyCQjxlBzrm+/ZgKzQfQ2bgIHMHJDzXr2c9LcoOAcgeMHEIzUUNeebU2iEQw8+m76ML1oDbXy10n4bvo4o20GBKYXqaG2u5HBne2uz9TewESXLbRdEkDgWBJjGGxdSgS3boLP9eyG8L1FoN2TfhV4uSXecC+IYeqrIEEF1cGGQa5ikC2BGEGW6zTf6A31PWGCCroAG76nN9Q+ZegvjvE2/A1s+Jre0Ap03YEv5g+wYYX61TLas56ANPFgWAEblqhjqP0trI/iXnq6WmWZYZm6k24J88PJAv4GuyztZKpfiQzhfRZsmPiuUXbSj6IyBcbswAUTKuVNYO2W9o50CNhFBsMK5bqNvqqAPyhfYTAsUeb8nb/EGZqDEoNh1qDrpjvUdRP8YeqkiUSNrpsKNER5g8mw8j32hh14vidki1T7fHGGqG0wZENCjSolijM0z2tsgokSVRCFGeIQssykY4o0I1GYoXnONs8QKkWK6VSUIZ5IK8yGibQR4xh20+yCOIirFzaCDM0hjxDi5ffqfirGENUNlYdgopRWV13eF2KIcmqaeSKdUFNXLU9FGCK7o7LmwgeyavF77AyR0jFUxuXMjFJ6hWL0hgh1DF59lHCaVg3riekmckPU7hpptiW3j0paVZ+YUSM2RGZeVdMVnoJjxeJ7Z5ljtIbIHhjcBSdRVL8tcYzQECHlXg1DEE832LCovt9zdH3u/1aEY4jmMe36APupKsdJZka2RsJYNL5ff9vzUf4nBEM77+di2Cka2C9d45YmfJRU4qgW51Dz/A3xvmEe8vHpcAI4cxxL+jDCMVzwSelw/QjZ0xr5HC8hGfo/RlVrp2H1T5/lHM9DMHw+/zGR2C0mFEOBPvNIQ2koDcUjDaXhr25Idg2/siFSTj6fKHMvUPhlDBF6SR42f/XF9p3iVzFEs9fLnHjPETPDF1BD2/W2AK8iCuMtrHA+AA1N96P0x15D+DPoYfAb0BB5zuIJIkNdbBj8oHyXjF/Q+5z5S7chQ11sGFRsmKG3J/7h/jvZFTEqSzitg7qpbzb54joJqnO9aM9MaQgz9D4L4p6R0TDsK07ByKoQQWXzf55Xy9y4/0z8bp3xwbiHBHGzf+86x8BVaIzu2ctI+FJR/asuOsOzweMpjnuzF7YgO4wbE0xkjQEoYfTOhtMz/DjrzUqpzQFruRp/aqCrwpt3vbON4fGr48HPs15mFsK8wesWPT+y6WIbMhQzvd4ZodebhRC11XTsQkhuMHYX7GNXBrGPFSc8vgsDoW7sRuEY1egoAEXlbuznmmVIlYVomYWU0kYHNKEq/X5/9tQUsvlWWfDkNG10c6C06Ho2GuV4V1nwhNzrr8N2GQ+Ydf5VFjzBisYQMBgfA6gMwylC4AdR7OZNmCMy8924C44LGVXjvA1wRGb7nFQhxHSSmZFVJ44BcyNC2A8HMG47ioWQ+cYwOnmbOpDItPOdcRlJRXTj6ZgU3hjFAZFcZUmqgPKDLqm7CK9Mhj+Twhsclc5FHZnmguKmaYmTieoXHXVcJxN+GQlfSrVJdZFhGN3z4UW+3s55/kVcrl3PXwzPu49VQLX18iNkT2sP1UULiptmJU6kOieqMhnukOqihTVUnhqntdWbki1VanM1VA81TrVKab3tZmSzJT9CK5wkEolEIpFIJBKJRCKRSCQSieRfyP8B8tlPabWkZaoAAAAASUVORK5CYII=\">"
   ]
  },
  {
   "cell_type": "code",
   "execution_count": 58,
   "metadata": {},
   "outputs": [
    {
     "data": {
      "text/html": [
       "<iframe width=\"362\" height=\"229\" src=\"https://www.youtube.com/embed/qqG7Z9ZBOr4\" frameborder=\"0\" allow=\"accelerometer; autoplay; encrypted-media; gyroscope; picture-in-picture\" allowfullscreen></iframe>\n"
      ],
      "text/plain": [
       "<IPython.core.display.HTML object>"
      ]
     },
     "metadata": {},
     "output_type": "display_data"
    }
   ],
   "source": [
    "%%HTML\n",
    "<iframe width=\"362\" height=\"229\" src=\"https://www.youtube.com/embed/qqG7Z9ZBOr4\" frameborder=\"0\" allow=\"accelerometer; autoplay; encrypted-media; gyroscope; picture-in-picture\" allowfullscreen></iframe>"
   ]
  },
  {
   "cell_type": "code",
   "execution_count": null,
   "metadata": {},
   "outputs": [],
   "source": []
  }
 ],
 "metadata": {
  "kernelspec": {
   "display_name": "Python 3",
   "language": "python",
   "name": "python3"
  },
  "language_info": {
   "codemirror_mode": {
    "name": "ipython",
    "version": 3
   },
   "file_extension": ".py",
   "mimetype": "text/x-python",
   "name": "python",
   "nbconvert_exporter": "python",
   "pygments_lexer": "ipython3",
   "version": "3.7.3"
  }
 },
 "nbformat": 4,
 "nbformat_minor": 2
}
